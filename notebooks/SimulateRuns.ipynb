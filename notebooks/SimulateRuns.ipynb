{
 "cells": [
  {
   "cell_type": "code",
   "execution_count": 28,
   "id": "4e9bd3f4-db4d-4e38-9a08-6a75c1664ee4",
   "metadata": {},
   "outputs": [],
   "source": [
    "import json \n",
    "from IPython.display import display\n",
    "#from google.colab.data_table import DataTable\n",
    "#DataTable.max_columns = 45\n",
    "\n",
    "\n",
    "gameLogFile = open(\"../simulations/simulation.simulation\",'r')\n",
    "\n",
    "contractNames = gameLogFile.readline().split(',')\n",
    "from itertools import zip_longest\n",
    "\n",
    "contractNames\n",
    "finishes = []\n",
    "\n",
    "for l in  zip_longest(*[gameLogFile] * 4):\n",
    "    finishes.append([l[0].strip().split(\",\"),l[1].strip().split(\",\"),l[2].strip().split(\",\")])"
   ]
  },
  {
   "cell_type": "code",
   "execution_count": 29,
   "id": "78e89990-eb1f-4833-9411-9f2b099c8711",
   "metadata": {},
   "outputs": [
    {
     "data": {
      "text/plain": [
       "[[['1069', '1'], ['746', '2'], ['622', '0']],\n",
       " [['1006', '3'], ['643', '0'], ['597', '1']],\n",
       " [['1007', '2'], ['885', '1'], ['845', '0']],\n",
       " [['1003', '3'], ['833', '2'], ['753', '0']],\n",
       " [['1019', '3'], ['842', '0'], ['706', '1']],\n",
       " [['1000', '3'], ['980', '2'], ['819', '0']],\n",
       " [['1029', '1'], ['796', '2'], ['654', '0']],\n",
       " [['1002', '0'], ['704', '3'], ['488', '1']],\n",
       " [['1019', '2'], ['917', '1'], ['706', '0']],\n",
       " [['1022', '3'], ['877', '2'], ['742', '1']],\n",
       " [['1032', '1'], ['958', '3'], ['772', '0']],\n",
       " [['1019', '3'], ['775', '2'], ['677', '1']],\n",
       " [['1071', '1'], ['850', '2'], ['625', '0']],\n",
       " [['1000', '3'], ['841', '2'], ['826', '0']],\n",
       " [['1001', '1'], ['790', '2'], ['623', '0']],\n",
       " [['1003', '3'], ['825', '2'], ['704', '1']],\n",
       " [['1003', '3'], ['795', '2'], ['769', '0']],\n",
       " [['1001', '3'], ['640', '1'], ['638', '2']],\n",
       " [['1134', '1'], ['978', '3'], ['675', '0']],\n",
       " [['1024', '3'], ['815', '2'], ['727', '0']],\n",
       " [['1092', '1'], ['905', '3'], ['677', '0']],\n",
       " [['1000', '3'], ['813', '1'], ['719', '2']],\n",
       " [['1008', '2'], ['995', '3'], ['845', '0']],\n",
       " [['1043', '3'], ['794', '2'], ['722', '1']]]"
      ]
     },
     "execution_count": 29,
     "metadata": {},
     "output_type": "execute_result"
    }
   ],
   "source": [
    "finishes"
   ]
  },
  {
   "cell_type": "code",
   "execution_count": null,
   "id": "cd0bd2a8-bb31-4f58-9cfe-1442fc8dcb13",
   "metadata": {},
   "outputs": [],
   "source": []
  }
 ],
 "metadata": {
  "kernelspec": {
   "display_name": "Python 3 (ipykernel)",
   "language": "python",
   "name": "python3"
  },
  "language_info": {
   "codemirror_mode": {
    "name": "ipython",
    "version": 3
   },
   "file_extension": ".py",
   "mimetype": "text/x-python",
   "name": "python",
   "nbconvert_exporter": "python",
   "pygments_lexer": "ipython3",
   "version": "3.8.10"
  }
 },
 "nbformat": 4,
 "nbformat_minor": 5
}
