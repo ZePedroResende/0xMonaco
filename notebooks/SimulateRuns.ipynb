{
 "cells": [
  {
   "cell_type": "code",
   "execution_count": 44,
   "id": "4e9bd3f4-db4d-4e38-9a08-6a75c1664ee4",
   "metadata": {},
   "outputs": [
    {
     "name": "stdout",
     "output_type": "stream",
     "text": [
      "Collecting git+https://github.com/djcunningham0/multielo.git\n",
      "  Cloning https://github.com/djcunningham0/multielo.git to /tmp/pip-req-build-cx1byehj\n",
      "  Running command git clone --filter=blob:none --quiet https://github.com/djcunningham0/multielo.git /tmp/pip-req-build-cx1byehj\n",
      "  Resolved https://github.com/djcunningham0/multielo.git to commit 440f7922b90ff87009f8283d6491eb0f704e6624\n",
      "  Preparing metadata (setup.py) ... \u001b[?25ldone\n",
      "\u001b[?25hRequirement already satisfied: numpy in /home/resende/Developer/monaco/williams/env/lib/python3.10/site-packages (from multielo==0.4.1) (1.24.1)\n",
      "Requirement already satisfied: pandas in /home/resende/Developer/monaco/williams/env/lib/python3.10/site-packages (from multielo==0.4.1) (1.5.3)\n",
      "Requirement already satisfied: pytz>=2020.1 in /home/resende/Developer/monaco/williams/env/lib/python3.10/site-packages (from pandas->multielo==0.4.1) (2022.7.1)\n",
      "Requirement already satisfied: python-dateutil>=2.8.1 in /home/resende/Developer/monaco/williams/env/lib/python3.10/site-packages (from pandas->multielo==0.4.1) (2.8.2)\n",
      "Requirement already satisfied: six>=1.5 in /home/resende/Developer/monaco/williams/env/lib/python3.10/site-packages (from python-dateutil>=2.8.1->pandas->multielo==0.4.1) (1.16.0)\n",
      "Installing collected packages: multielo\n",
      "\u001b[33m  DEPRECATION: multielo is being installed using the legacy 'setup.py install' method, because it does not have a 'pyproject.toml' and the 'wheel' package is not installed. pip 23.1 will enforce this behaviour change. A possible replacement is to enable the '--use-pep517' option. Discussion can be found at https://github.com/pypa/pip/issues/8559\u001b[0m\u001b[33m\n",
      "\u001b[0m  Running setup.py install for multielo ... \u001b[?25ldone\n",
      "\u001b[?25hSuccessfully installed multielo-0.4.1\n"
     ]
    }
   ],
   "source": [
    "import json \n",
    "from IPython.display import display\n",
    "!pip install git+https://github.com/djcunningham0/multielo.git\n",
    "\n",
    "import pandas as pd\n",
    "#from google.colab.data_table import DataTable\n",
    "#DataTable.max_columns = 45\n",
    "\n",
    "\n",
    "gameLogFile = open(\"../simulations/simulation.simulation\",'r')\n",
    "\n",
    "contractNames = gameLogFile.readline().split(',')\n",
    "from itertools import zip_longest\n",
    "\n",
    "contractNames\n",
    "finishes = []\n",
    "\n",
    "for l in  zip_longest(*[gameLogFile] * 4):\n",
    "    finishes.append([l[0].strip().split(\",\"),l[1].strip().split(\",\"),l[2].strip().split(\",\")])"
   ]
  },
  {
   "cell_type": "code",
   "execution_count": 2,
   "id": "78e89990-eb1f-4833-9411-9f2b099c8711",
   "metadata": {},
   "outputs": [
    {
     "data": {
      "text/plain": [
       "[[['1069', '1'], ['746', '2'], ['622', '0']],\n",
       " [['1006', '3'], ['643', '0'], ['597', '1']],\n",
       " [['1007', '2'], ['885', '1'], ['845', '0']],\n",
       " [['1003', '3'], ['833', '2'], ['753', '0']],\n",
       " [['1019', '3'], ['842', '0'], ['706', '1']],\n",
       " [['1000', '3'], ['980', '2'], ['819', '0']],\n",
       " [['1029', '1'], ['796', '2'], ['654', '0']],\n",
       " [['1002', '0'], ['704', '3'], ['488', '1']],\n",
       " [['1019', '2'], ['917', '1'], ['706', '0']],\n",
       " [['1022', '3'], ['877', '2'], ['742', '1']],\n",
       " [['1032', '1'], ['958', '3'], ['772', '0']],\n",
       " [['1019', '3'], ['775', '2'], ['677', '1']],\n",
       " [['1071', '1'], ['850', '2'], ['625', '0']],\n",
       " [['1000', '3'], ['841', '2'], ['826', '0']],\n",
       " [['1001', '1'], ['790', '2'], ['623', '0']],\n",
       " [['1003', '3'], ['825', '2'], ['704', '1']],\n",
       " [['1003', '3'], ['795', '2'], ['769', '0']],\n",
       " [['1001', '3'], ['640', '1'], ['638', '2']],\n",
       " [['1134', '1'], ['978', '3'], ['675', '0']],\n",
       " [['1024', '3'], ['815', '2'], ['727', '0']],\n",
       " [['1092', '1'], ['905', '3'], ['677', '0']],\n",
       " [['1000', '3'], ['813', '1'], ['719', '2']],\n",
       " [['1008', '2'], ['995', '3'], ['845', '0']],\n",
       " [['1043', '3'], ['794', '2'], ['722', '1']]]"
      ]
     },
     "execution_count": 2,
     "metadata": {},
     "output_type": "execute_result"
    }
   ],
   "source": [
    "finishes"
   ]
  },
  {
   "cell_type": "code",
   "execution_count": 3,
   "id": "cd0bd2a8-bb31-4f58-9cfe-1442fc8dcb13",
   "metadata": {},
   "outputs": [],
   "source": [
    "podium = list(map(lambda x: list(map(lambda y: y[1], x)), finishes))"
   ]
  },
  {
   "cell_type": "code",
   "execution_count": 4,
   "id": "2244737a-9920-418c-aeb2-bcea49e20a7b",
   "metadata": {},
   "outputs": [
    {
     "data": {
      "text/plain": [
       "[['1', '2', '0'],\n",
       " ['3', '0', '1'],\n",
       " ['2', '1', '0'],\n",
       " ['3', '2', '0'],\n",
       " ['3', '0', '1'],\n",
       " ['3', '2', '0'],\n",
       " ['1', '2', '0'],\n",
       " ['0', '3', '1'],\n",
       " ['2', '1', '0'],\n",
       " ['3', '2', '1'],\n",
       " ['1', '3', '0'],\n",
       " ['3', '2', '1'],\n",
       " ['1', '2', '0'],\n",
       " ['3', '2', '0'],\n",
       " ['1', '2', '0'],\n",
       " ['3', '2', '1'],\n",
       " ['3', '2', '0'],\n",
       " ['3', '1', '2'],\n",
       " ['1', '3', '0'],\n",
       " ['3', '2', '0'],\n",
       " ['1', '3', '0'],\n",
       " ['3', '1', '2'],\n",
       " ['2', '3', '0'],\n",
       " ['3', '2', '1']]"
      ]
     },
     "execution_count": 4,
     "metadata": {},
     "output_type": "execute_result"
    }
   ],
   "source": [
    "podium"
   ]
  },
  {
   "cell_type": "code",
   "execution_count": 5,
   "id": "81296b80-2d3c-43b9-b597-6dfd048cc1c6",
   "metadata": {},
   "outputs": [],
   "source": [
    "f = pd.DataFrame(podium, columns=[\"first\",\"second\",\"third\"])"
   ]
  },
  {
   "cell_type": "code",
   "execution_count": 6,
   "id": "171f9af3-fa6f-4720-91c0-81e40f4b8208",
   "metadata": {},
   "outputs": [
    {
     "data": {
      "text/html": [
       "<div>\n",
       "<style scoped>\n",
       "    .dataframe tbody tr th:only-of-type {\n",
       "        vertical-align: middle;\n",
       "    }\n",
       "\n",
       "    .dataframe tbody tr th {\n",
       "        vertical-align: top;\n",
       "    }\n",
       "\n",
       "    .dataframe thead th {\n",
       "        text-align: right;\n",
       "    }\n",
       "</style>\n",
       "<table border=\"1\" class=\"dataframe\">\n",
       "  <thead>\n",
       "    <tr style=\"text-align: right;\">\n",
       "      <th></th>\n",
       "      <th>first</th>\n",
       "      <th>second</th>\n",
       "      <th>third</th>\n",
       "    </tr>\n",
       "  </thead>\n",
       "  <tbody>\n",
       "    <tr>\n",
       "      <th>0</th>\n",
       "      <td>1</td>\n",
       "      <td>2</td>\n",
       "      <td>0</td>\n",
       "    </tr>\n",
       "    <tr>\n",
       "      <th>1</th>\n",
       "      <td>3</td>\n",
       "      <td>0</td>\n",
       "      <td>1</td>\n",
       "    </tr>\n",
       "    <tr>\n",
       "      <th>2</th>\n",
       "      <td>2</td>\n",
       "      <td>1</td>\n",
       "      <td>0</td>\n",
       "    </tr>\n",
       "    <tr>\n",
       "      <th>3</th>\n",
       "      <td>3</td>\n",
       "      <td>2</td>\n",
       "      <td>0</td>\n",
       "    </tr>\n",
       "    <tr>\n",
       "      <th>4</th>\n",
       "      <td>3</td>\n",
       "      <td>0</td>\n",
       "      <td>1</td>\n",
       "    </tr>\n",
       "    <tr>\n",
       "      <th>5</th>\n",
       "      <td>3</td>\n",
       "      <td>2</td>\n",
       "      <td>0</td>\n",
       "    </tr>\n",
       "    <tr>\n",
       "      <th>6</th>\n",
       "      <td>1</td>\n",
       "      <td>2</td>\n",
       "      <td>0</td>\n",
       "    </tr>\n",
       "    <tr>\n",
       "      <th>7</th>\n",
       "      <td>0</td>\n",
       "      <td>3</td>\n",
       "      <td>1</td>\n",
       "    </tr>\n",
       "    <tr>\n",
       "      <th>8</th>\n",
       "      <td>2</td>\n",
       "      <td>1</td>\n",
       "      <td>0</td>\n",
       "    </tr>\n",
       "    <tr>\n",
       "      <th>9</th>\n",
       "      <td>3</td>\n",
       "      <td>2</td>\n",
       "      <td>1</td>\n",
       "    </tr>\n",
       "    <tr>\n",
       "      <th>10</th>\n",
       "      <td>1</td>\n",
       "      <td>3</td>\n",
       "      <td>0</td>\n",
       "    </tr>\n",
       "    <tr>\n",
       "      <th>11</th>\n",
       "      <td>3</td>\n",
       "      <td>2</td>\n",
       "      <td>1</td>\n",
       "    </tr>\n",
       "    <tr>\n",
       "      <th>12</th>\n",
       "      <td>1</td>\n",
       "      <td>2</td>\n",
       "      <td>0</td>\n",
       "    </tr>\n",
       "    <tr>\n",
       "      <th>13</th>\n",
       "      <td>3</td>\n",
       "      <td>2</td>\n",
       "      <td>0</td>\n",
       "    </tr>\n",
       "    <tr>\n",
       "      <th>14</th>\n",
       "      <td>1</td>\n",
       "      <td>2</td>\n",
       "      <td>0</td>\n",
       "    </tr>\n",
       "    <tr>\n",
       "      <th>15</th>\n",
       "      <td>3</td>\n",
       "      <td>2</td>\n",
       "      <td>1</td>\n",
       "    </tr>\n",
       "    <tr>\n",
       "      <th>16</th>\n",
       "      <td>3</td>\n",
       "      <td>2</td>\n",
       "      <td>0</td>\n",
       "    </tr>\n",
       "    <tr>\n",
       "      <th>17</th>\n",
       "      <td>3</td>\n",
       "      <td>1</td>\n",
       "      <td>2</td>\n",
       "    </tr>\n",
       "    <tr>\n",
       "      <th>18</th>\n",
       "      <td>1</td>\n",
       "      <td>3</td>\n",
       "      <td>0</td>\n",
       "    </tr>\n",
       "    <tr>\n",
       "      <th>19</th>\n",
       "      <td>3</td>\n",
       "      <td>2</td>\n",
       "      <td>0</td>\n",
       "    </tr>\n",
       "    <tr>\n",
       "      <th>20</th>\n",
       "      <td>1</td>\n",
       "      <td>3</td>\n",
       "      <td>0</td>\n",
       "    </tr>\n",
       "    <tr>\n",
       "      <th>21</th>\n",
       "      <td>3</td>\n",
       "      <td>1</td>\n",
       "      <td>2</td>\n",
       "    </tr>\n",
       "    <tr>\n",
       "      <th>22</th>\n",
       "      <td>2</td>\n",
       "      <td>3</td>\n",
       "      <td>0</td>\n",
       "    </tr>\n",
       "    <tr>\n",
       "      <th>23</th>\n",
       "      <td>3</td>\n",
       "      <td>2</td>\n",
       "      <td>1</td>\n",
       "    </tr>\n",
       "  </tbody>\n",
       "</table>\n",
       "</div>"
      ],
      "text/plain": [
       "   first second third\n",
       "0      1      2     0\n",
       "1      3      0     1\n",
       "2      2      1     0\n",
       "3      3      2     0\n",
       "4      3      0     1\n",
       "5      3      2     0\n",
       "6      1      2     0\n",
       "7      0      3     1\n",
       "8      2      1     0\n",
       "9      3      2     1\n",
       "10     1      3     0\n",
       "11     3      2     1\n",
       "12     1      2     0\n",
       "13     3      2     0\n",
       "14     1      2     0\n",
       "15     3      2     1\n",
       "16     3      2     0\n",
       "17     3      1     2\n",
       "18     1      3     0\n",
       "19     3      2     0\n",
       "20     1      3     0\n",
       "21     3      1     2\n",
       "22     2      3     0\n",
       "23     3      2     1"
      ]
     },
     "execution_count": 6,
     "metadata": {},
     "output_type": "execute_result"
    }
   ],
   "source": [
    "f"
   ]
  },
  {
   "cell_type": "code",
   "execution_count": 48,
   "id": "fc885226-1046-4b8f-8434-fb6858b9eb15",
   "metadata": {},
   "outputs": [
    {
     "data": {
      "text/plain": [
       "3    13\n",
       "1     7\n",
       "2     3\n",
       "0     1\n",
       "Name: first, dtype: int64"
      ]
     },
     "execution_count": 48,
     "metadata": {},
     "output_type": "execute_result"
    }
   ],
   "source": [
    "f[\"first\"].value_counts()"
   ]
  },
  {
   "cell_type": "code",
   "execution_count": 8,
   "id": "ee16d3ba-4219-4c82-8896-0103237d421a",
   "metadata": {},
   "outputs": [
    {
     "data": {
      "text/plain": [
       "2    13\n",
       "3     5\n",
       "1     4\n",
       "0     2\n",
       "Name: second, dtype: int64"
      ]
     },
     "execution_count": 8,
     "metadata": {},
     "output_type": "execute_result"
    }
   ],
   "source": [
    "f[\"second\"].value_counts()\n",
    "\n"
   ]
  },
  {
   "cell_type": "code",
   "execution_count": 9,
   "id": "9d6fe736-4413-4960-be5a-b80ea620c415",
   "metadata": {},
   "outputs": [
    {
     "data": {
      "text/plain": [
       "0    15\n",
       "1     7\n",
       "2     2\n",
       "Name: third, dtype: int64"
      ]
     },
     "execution_count": 9,
     "metadata": {},
     "output_type": "execute_result"
    }
   ],
   "source": [
    "f[\"third\"].value_counts()"
   ]
  },
  {
   "cell_type": "code",
   "execution_count": 37,
   "id": "dc2e6ff0-8b4e-4eb5-85da-61a2aaad45be",
   "metadata": {},
   "outputs": [],
   "source": [
    "most_winner = f[\"first\"].value_counts().index[0]"
   ]
  },
  {
   "cell_type": "code",
   "execution_count": 40,
   "id": "b2448a2e-9ade-4b1b-ab32-0245362900d7",
   "metadata": {},
   "outputs": [
    {
     "data": {
      "text/plain": [
       "'3'"
      ]
     },
     "execution_count": 40,
     "metadata": {},
     "output_type": "execute_result"
    }
   ],
   "source": [
    "most_winner"
   ]
  },
  {
   "cell_type": "code",
   "execution_count": 43,
   "id": "a2bf846d-45a4-416a-a3e6-c3df9a12394e",
   "metadata": {},
   "outputs": [
    {
     "data": {
      "text/plain": [
       "1    3\n",
       "0    1\n",
       "2    1\n",
       "Name: first, dtype: int64"
      ]
     },
     "execution_count": 43,
     "metadata": {},
     "output_type": "execute_result"
    }
   ],
   "source": [
    "f[f[\"second\"] == most_winner][\"first\"].value_counts()"
   ]
  },
  {
   "cell_type": "code",
   "execution_count": 42,
   "id": "105e38ed-b774-43a5-b9a5-a27f7e01eee3",
   "metadata": {},
   "outputs": [
    {
     "data": {
      "text/plain": [
       "Series([], Name: third, dtype: int64)"
      ]
     },
     "execution_count": 42,
     "metadata": {},
     "output_type": "execute_result"
    }
   ],
   "source": [
    "f[f[\"third\"] == most_winner][\"third\"].value_counts()"
   ]
  },
  {
   "cell_type": "code",
   "execution_count": 46,
   "id": "c6eda0de-e886-4f42-95d7-d6f790072e1f",
   "metadata": {},
   "outputs": [],
   "source": [
    "from multielo import MultiElo\n",
    "import numpy as np\n",
    "\n",
    "elo = MultiElo()\n",
    "\n",
    "\n",
    "elos= {}\n",
    "for i, car in enumerate(contractNames) :\n",
    "    elos[i] = 1500\n",
    "\n",
    "\n",
    "for index, row in f.iterrows():\n",
    "    firstElo = elos[int(row[\"first\"])]\n",
    "    secondElo = elos[int(row[\"second\"])]\n",
    "    thirdElo = elos[int(row[\"third\"])]\n",
    "    np_a = np.array([firstElo, secondElo, thirdElo])\n",
    "    new_elos = elo.get_new_ratings(np_a)\n",
    "    elos[int(row[\"first\"])] = new_elos[0]\n",
    "    elos[int(row[\"second\"])] = new_elos[1]\n",
    "    elos[int(row[\"third\"])] = new_elos[2]\n",
    "\n",
    "\n"
   ]
  },
  {
   "cell_type": "code",
   "execution_count": 47,
   "id": "22ac44d5-e60e-4cc4-be82-e90eb4b1478f",
   "metadata": {},
   "outputs": [
    {
     "data": {
      "text/plain": [
       "{0: 1319.306898690574,\n",
       " 1: 1518.4381859299137,\n",
       " 2: 1510.3825308691848,\n",
       " 3: 1651.8723845103275}"
      ]
     },
     "execution_count": 47,
     "metadata": {},
     "output_type": "execute_result"
    }
   ],
   "source": [
    "elos"
   ]
  },
  {
   "cell_type": "code",
   "execution_count": null,
   "id": "ab9f8abb-67e2-4274-80b6-0e8c86d19f71",
   "metadata": {},
   "outputs": [],
   "source": []
  }
 ],
 "metadata": {
  "kernelspec": {
   "display_name": "Python 3 (ipykernel)",
   "language": "python",
   "name": "python3"
  },
  "language_info": {
   "codemirror_mode": {
    "name": "ipython",
    "version": 3
   },
   "file_extension": ".py",
   "mimetype": "text/x-python",
   "name": "python",
   "nbconvert_exporter": "python",
   "pygments_lexer": "ipython3",
   "version": "3.10.9"
  }
 },
 "nbformat": 4,
 "nbformat_minor": 5
}
